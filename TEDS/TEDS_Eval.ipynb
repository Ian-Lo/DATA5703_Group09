{
 "cells": [
  {
   "cell_type": "markdown",
   "metadata": {},
   "source": [
    "## Take the list of structural tokens and list of lists of cell tokens and eval against ground truth"
   ]
  },
  {
   "cell_type": "code",
   "execution_count": 3,
   "metadata": {},
   "outputs": [],
   "source": [
    "# Sample HTML code\n",
    "pred_html = '<html><body><table><thead><tr><td><b>Name of algori</b></td><td><b>Notablefeatures</b></td></tr></thead><tbody><tr><td>MACS [23]</td><td>Uses both a control library and local statistics to minimize bias</td></tr><tr><td>SICER [15]</td><td>Designed for detecting diffusely enriched regions; for example, histone modification</td></tr><tr><td>PeakSEQ [24]</td><td>Corrects for reference genome mappability and local statistics</td></tr><tr><td>SISSRs [25]</td><td>High resolution, precise identification of binding-site location</td></tr><tr><td>F-seq [26]</td><td>Uses kernel density estimation</td></tr></tbody></table></body></html>'\n",
    "true_html = '<html><body><table><thead><tr><td><b>Name of algorithm</b></td><td><b>Notable features</b></td></tr></thead><tbody><tr><td>MACS [23]</td><td>Uses both a control library and local statistics to minimize bias</td></tr><tr><td>SICER [14]</td><td>Designed for detecting diffusely enriched regions; for example, histone modification</td></tr><tr><td>PeakSeq [24]</td><td>Corrects for reference genome mappability and local statistics</td></tr><tr><td>SISSRs [25]</td><td>High resolution, precise identification of binding-site location</td></tr><tr><td>F-seq [26]</td><td>Uses kernel density estimation</td></tr></tbody></table></body></html>'"
   ]
  },
  {
   "cell_type": "code",
   "execution_count": 4,
   "metadata": {},
   "outputs": [
    {
     "output_type": "stream",
     "name": "stdout",
     "text": [
      "TEDS score: 0.9781765018607124\n"
     ]
    }
   ],
   "source": [
    "from metric import TEDS\n",
    "# Initialize TEDS object\n",
    "teds = TEDS()\n",
    "# Evaluate\n",
    "score = teds.evaluate(pred_html, true_html)\n",
    "print('TEDS score:', score)"
   ]
  },
  {
   "cell_type": "markdown",
   "metadata": {},
   "source": [
    "## Batch evaluation with parallel threads"
   ]
  },
  {
   "cell_type": "code",
   "execution_count": 19,
   "metadata": {},
   "outputs": [],
   "source": [
    "import json\n",
    "import pprint\n",
    "import pandas as pd\n",
    "from metric import TEDS\n",
    "import jsonlines \n",
    "import eval_json"
   ]
  },
  {
   "cell_type": "code",
   "execution_count": 16,
   "metadata": {},
   "outputs": [
    {
     "output_type": "stream",
     "name": "stdout",
     "text": [
      "{'filename': 'PMC4840965_004_00.png', 'split': 'train', 'imgid': 0, 'html': {'cells': [{'tokens': ['<b>', 'V', 'a', 'r', 'i', 'a', 'b', 'l', 'e', '</b>'], 'bbox': [1, 4, 27, 13]}, {'tokens': ['<b>', 'H', 'a', 'z', 'a', 'r', 'd', ' ', 'r', 'a', 't', 'i', 'o', '</b>'], 'bbox': [219, 4, 260, 13]}, {'tokens': ['<b>', '9', '5', ' ', '%', ' ', 'C', 'I', '</b>'], 'bbox': [336, 4, 363, 13]}, {'tokens': ['<b>', '<i>', 'p', '</i>', ' ', 'v', 'a', 'l', 'u', 'e', '*', '</b>'], 'bbox': [456, 4, 484, 13]}, {'tokens': ['A', 'g', 'e', ' ', '(', 'm', 'e', 'd', 'i', 'a', 'n', ')'], 'bbox': [1, 17, 46, 27]}, {'tokens': []}, {'tokens': []}, {'tokens': ['0', '.', '7', '1', '6'], 'bbox': [456, 17, 475, 27]}, {'tokens': [' ', '≤', '6', '9'], 'bbox': [8, 31, 23, 41]}, {'tokens': ['1', '.', '0', '0', '0'], 'bbox': [219, 31, 238, 41]}, {'tokens': []}, {'tokens': []}, {'tokens': [' ', '>', '6', '9'], 'bbox': [8, 45, 23, 55]}, {'tokens': ['0', '.', '8', '3', '9'], 'bbox': [219, 45, 238, 55]}, {'tokens': ['0', '.', '3', '1', '0', '–', '2', '.', '2', '6', '8'], 'bbox': [336, 45, 376, 55]}, {'tokens': []}, {'tokens': ['G', 'e', 'n', 'd', 'e', 'r'], 'bbox': [1, 59, 26, 69]}, {'tokens': []}, {'tokens': []}, {'tokens': ['0', '.', '1', '4', '2'], 'bbox': [456, 59, 475, 69]}, {'tokens': [' ', 'M', 'a', 'l', 'e'], 'bbox': [8, 73, 26, 83]}, {'tokens': ['1', '.', '0', '0', '0'], 'bbox': [219, 73, 238, 83]}, {'tokens': []}, {'tokens': []}, {'tokens': [' ', 'F', 'e', 'm', 'a', 'l', 'e'], 'bbox': [8, 87, 34, 97]}, {'tokens': ['0', '.', '4', '2', '6'], 'bbox': [219, 87, 238, 97]}, {'tokens': ['0', '.', '1', '5', '2', '–', '1', '.', '1', '9', '0'], 'bbox': [336, 87, 376, 97]}, {'tokens': []}, {'tokens': ['T', 'y', 'p', 'e', ' ', 'o', 'f', ' ', 's', 'u', 'r', 'g', 'e', 'r', 'y'], 'bbox': [1, 101, 52, 111]}, {'tokens': []}, {'tokens': []}, {'tokens': ['0', '.', '0', '1', '0'], 'bbox': [456, 101, 475, 111]}, {'tokens': [' ', 'L', 'o', 'w', ' ', 'a', 'n', 't', 'e', 'r', 'i', 'o', 'r', ' ', 'r', 'e', 's', 'e', 'c', 't', 'i', 'o', 'n'], 'bbox': [8, 115, 82, 125]}, {'tokens': ['1', '.', '0', '0', '0'], 'bbox': [219, 115, 238, 125]}, {'tokens': []}, {'tokens': []}, {'tokens': [' ', 'A', 'b', 'd', 'o', 'm', 'i', 'n', 'o', 'p', 'e', 'r', 'i', 'n', 'e', 'a', 'l', ' ', 'r', 'e', 's', 'e', 'c', 't', 'i', 'o', 'n'], 'bbox': [8, 129, 101, 139]}, {'tokens': ['3', '.', '1', '4', '0'], 'bbox': [219, 129, 238, 139]}, {'tokens': ['0', '.', '9', '1', '9', '–', '1', '0', '.', '7', '2', '5'], 'bbox': [336, 129, 379, 139]}, {'tokens': []}, {'tokens': ['T', 'u', 'm', 'o', 'r', ' ', 'l', 'o', 'c', 'a', 't', 'i', 'o', 'n'], 'bbox': [1, 143, 51, 153]}, {'tokens': []}, {'tokens': []}, {'tokens': ['0', '.', '7', '1', '0'], 'bbox': [456, 143, 475, 153]}, {'tokens': [' ', 'U', 'p', 'p', 'e', 'r', ' ', 'r', 'e', 'c', 't', 'u', 'm'], 'bbox': [8, 157, 55, 167]}, {'tokens': ['1', '.', '0', '0', '0'], 'bbox': [219, 157, 238, 167]}, {'tokens': []}, {'tokens': []}, {'tokens': [' ', 'M', 'i', 'd', 'd', 'l', 'e', ' ', 'r', 'e', 'c', 't', 'u', 'm'], 'bbox': [8, 171, 58, 181]}, {'tokens': ['1', '.', '2', '6', '7'], 'bbox': [219, 171, 238, 181]}, {'tokens': ['0', '.', '3', '8', '1', '–', '4', '.', '2', '1', '3'], 'bbox': [336, 171, 376, 181]}, {'tokens': []}, {'tokens': [' ', 'L', 'o', 'w', ' ', 'r', 'e', 'c', 't', 'u', 'm'], 'bbox': [8, 185, 49, 195]}, {'tokens': ['1', '.', '7', '1', '6'], 'bbox': [219, 185, 238, 195]}, {'tokens': ['0', '.', '4', '1', '9', '–', '7', '.', '0', '2', '6'], 'bbox': [336, 185, 376, 195]}, {'tokens': []}, {'tokens': ['G', 'r', 'a', 'd', 'e', ' ', 'o', 'f', ' ', 'd', 'i', 'f', 'f', 'e', 'r', 'e', 'n', 't', 'i', 'a', 't', 'i', 'o', 'n'], 'bbox': [0, 199, 77, 209]}, {'tokens': []}, {'tokens': []}, {'tokens': ['0', '.', '9', '3', '6'], 'bbox': [456, 199, 475, 209]}, {'tokens': [' ', 'G', '1'], 'bbox': [8, 213, 19, 223]}, {'tokens': ['1', '.', '0', '0', '0'], 'bbox': [219, 213, 238, 223]}, {'tokens': []}, {'tokens': []}, {'tokens': [' ', 'G', '2'], 'bbox': [8, 227, 19, 237]}, {'tokens': ['1', '.', '9', '3', '3'], 'bbox': [219, 227, 238, 237]}, {'tokens': ['0', '.', '4', '1', '6', '–', '3', '.', '4', '2', '3'], 'bbox': [336, 227, 376, 237]}, {'tokens': []}, {'tokens': [' ', 'G', '3'], 'bbox': [8, 241, 19, 251]}, {'tokens': ['1', '.', '1', '1', '9'], 'bbox': [219, 241, 238, 251]}, {'tokens': ['0', '.', '1', '3', '7', '–', '9', '.', '1', '3', '7'], 'bbox': [336, 241, 376, 251]}, {'tokens': []}, {'tokens': ['H', 'i', 's', 't', 'o', 'l', 'o', 'g', 'i', 'c', ' ', 't', 'y', 'p', 'e'], 'bbox': [0, 255, 51, 265]}, {'tokens': []}, {'tokens': []}, {'tokens': ['0', '.', '2', '9', '9'], 'bbox': [456, 255, 475, 265]}, {'tokens': [' ', 'A', 'd', 'e', 'n', 'o', 'c', 'a', 'r', 'c', 'i', 'n', 'o', 'm', 'a'], 'bbox': [8, 269, 65, 279]}, {'tokens': ['1', '.', '0', '0', '0'], 'bbox': [219, 269, 238, 279]}, {'tokens': []}, {'tokens': []}, {'tokens': [' ', 'A', 'd', 'e', 'n', 'o', 'c', 'a', 'r', 'c', 'i', 'n', 'o', 'm', 'a', ' ', 'w', 'i', 't', 'h', ' ', 'm', 'u', 'c', 'i', 'n', 'o', 'u', 's', ' ', 'f', 'e', 'a', 't', 'u', 'r', 'e', 's'], 'bbox': [8, 283, 142, 293]}, {'tokens': ['0', '.', '3', '8', '1'], 'bbox': [219, 283, 238, 293]}, {'tokens': ['0', '.', '0', '9', '6', '–', '1', '.', '5', '1', '4'], 'bbox': [336, 283, 376, 293]}, {'tokens': []}, {'tokens': ['D', 'e', 'p', 't', 'h', ' ', 'o', 'f', ' ', 't', 'u', 'm', 'o', 'r', ' ', 'i', 'n', 'v', 'a', 's', 'i', 'o', 'n'], 'bbox': [0, 297, 82, 307]}, {'tokens': []}, {'tokens': []}, {'tokens': ['0', '.', '9', '2', '5'], 'bbox': [456, 297, 475, 307]}, {'tokens': [' ', 'T', '3'], 'bbox': [8, 311, 18, 321]}, {'tokens': ['1', '.', '0', '0', '0'], 'bbox': [219, 311, 238, 321]}, {'tokens': []}, {'tokens': []}, {'tokens': [' ', 'T', '4', 'a'], 'bbox': [8, 325, 22, 335]}, {'tokens': ['0', '.', '9', '1', '9'], 'bbox': [219, 325, 238, 335]}, {'tokens': ['0', '.', '3', '1', '6', '–', '2', '.', '6', '7', '3'], 'bbox': [336, 325, 376, 335]}, {'tokens': []}, {'tokens': [' ', 'T', '4', 'b'], 'bbox': [8, 339, 22, 349]}, {'tokens': ['0', '.', '7', '4', '5'], 'bbox': [219, 339, 238, 349]}, {'tokens': ['0', '.', '1', '7', '2', '–', '3', '.', '2', '2', '3'], 'bbox': [336, 339, 376, 349]}, {'tokens': []}, {'tokens': ['T', 'u', 'm', 'o', 'r', ' ', 's', 'i', 'z', 'e'], 'bbox': [0, 353, 37, 363]}, {'tokens': []}, {'tokens': []}, {'tokens': ['0', '.', '3', '2', '9'], 'bbox': [456, 353, 475, 363]}, {'tokens': [' ', '≤', '4', ' ', 'c', 'm'], 'bbox': [8, 367, 32, 377]}, {'tokens': ['1', '.', '0', '0', '0'], 'bbox': [219, 367, 238, 377]}, {'tokens': []}, {'tokens': []}, {'tokens': [' ', '>', '4', ' ', 'c', 'm'], 'bbox': [8, 381, 31, 391]}, {'tokens': ['0', '.', '5', '9', '4'], 'bbox': [219, 381, 238, 391]}, {'tokens': ['0', '.', '2', '1', '4', '–', '1', '.', '6', '5', '1'], 'bbox': [336, 381, 376, 391]}, {'tokens': []}], 'structure': {'tokens': ['<thead>', '<tr>', '<td>', '</td>', '<td>', '</td>', '<td>', '</td>', '<td>', '</td>', '</tr>', '</thead>', '<tbody>', '<tr>', '<td>', '</td>', '<td>', '</td>', '<td>', '</td>', '<td>', '</td>', '</tr>', '<tr>', '<td>', '</td>', '<td>', '</td>', '<td>', '</td>', '<td>', '</td>', '</tr>', '<tr>', '<td>', '</td>', '<td>', '</td>', '<td>', '</td>', '<td>', '</td>', '</tr>', '<tr>', '<td>', '</td>', '<td>', '</td>', '<td>', '</td>', '<td>', '</td>', '</tr>', '<tr>', '<td>', '</td>', '<td>', '</td>', '<td>', '</td>', '<td>', '</td>', '</tr>', '<tr>', '<td>', '</td>', '<td>', '</td>', '<td>', '</td>', '<td>', '</td>', '</tr>', '<tr>', '<td>', '</td>', '<td>', '</td>', '<td>', '</td>', '<td>', '</td>', '</tr>', '<tr>', '<td>', '</td>', '<td>', '</td>', '<td>', '</td>', '<td>', '</td>', '</tr>', '<tr>', '<td>', '</td>', '<td>', '</td>', '<td>', '</td>', '<td>', '</td>', '</tr>', '<tr>', '<td>', '</td>', '<td>', '</td>', '<td>', '</td>', '<td>', '</td>', '</tr>', '<tr>', '<td>', '</td>', '<td>', '</td>', '<td>', '</td>', '<td>', '</td>', '</tr>', '<tr>', '<td>', '</td>', '<td>', '</td>', '<td>', '</td>', '<td>', '</td>', '</tr>', '<tr>', '<td>', '</td>', '<td>', '</td>', '<td>', '</td>', '<td>', '</td>', '</tr>', '<tr>', '<td>', '</td>', '<td>', '</td>', '<td>', '</td>', '<td>', '</td>', '</tr>', '<tr>', '<td>', '</td>', '<td>', '</td>', '<td>', '</td>', '<td>', '</td>', '</tr>', '<tr>', '<td>', '</td>', '<td>', '</td>', '<td>', '</td>', '<td>', '</td>', '</tr>', '<tr>', '<td>', '</td>', '<td>', '</td>', '<td>', '</td>', '<td>', '</td>', '</tr>', '<tr>', '<td>', '</td>', '<td>', '</td>', '<td>', '</td>', '<td>', '</td>', '</tr>', '<tr>', '<td>', '</td>', '<td>', '</td>', '<td>', '</td>', '<td>', '</td>', '</tr>', '<tr>', '<td>', '</td>', '<td>', '</td>', '<td>', '</td>', '<td>', '</td>', '</tr>', '<tr>', '<td>', '</td>', '<td>', '</td>', '<td>', '</td>', '<td>', '</td>', '</tr>', '<tr>', '<td>', '</td>', '<td>', '</td>', '<td>', '</td>', '<td>', '</td>', '</tr>', '<tr>', '<td>', '</td>', '<td>', '</td>', '<td>', '</td>', '<td>', '</td>', '</tr>', '<tr>', '<td>', '</td>', '<td>', '</td>', '<td>', '</td>', '<td>', '</td>', '</tr>', '<tr>', '<td>', '</td>', '<td>', '</td>', '<td>', '</td>', '<td>', '</td>', '</tr>', '<tr>', '<td>', '</td>', '<td>', '</td>', '<td>', '</td>', '<td>', '</td>', '</tr>', '<tr>', '<td>', '</td>', '<td>', '</td>', '<td>', '</td>', '<td>', '</td>', '</tr>', '</tbody>']}}}\n"
     ]
    }
   ],
   "source": [
    "with open('pubtabnet1000.jsonl') as file:\n",
    "    print(json.loads(file.readline()))\n",
    "    "
   ]
  },
  {
   "cell_type": "code",
   "execution_count": 20,
   "metadata": {},
   "outputs": [
    {
     "output_type": "error",
     "ename": "NameError",
     "evalue": "name 'create_folder' is not defined",
     "traceback": [
      "\u001b[0;31m---------------------------------------------------------------------------\u001b[0m",
      "\u001b[0;31mNameError\u001b[0m                                 Traceback (most recent call last)",
      "\u001b[0;32m<ipython-input-20-ef5799ac7b1c>\u001b[0m in \u001b[0;36m<module>\u001b[0;34m\u001b[0m\n\u001b[1;32m      1\u001b[0m \u001b[0;31m# Create directories\u001b[0m\u001b[0;34m\u001b[0m\u001b[0;34m\u001b[0m\u001b[0;34m\u001b[0m\u001b[0m\n\u001b[0;32m----> 2\u001b[0;31m \u001b[0mcreate_folder\u001b[0m\u001b[0;34m(\u001b[0m\u001b[0mwork_dir\u001b[0m\u001b[0;34m)\u001b[0m\u001b[0;34m\u001b[0m\u001b[0;34m\u001b[0m\u001b[0m\n\u001b[0m\u001b[1;32m      3\u001b[0m \u001b[0mcreate_folder\u001b[0m\u001b[0;34m(\u001b[0m\u001b[0moutput_path\u001b[0m\u001b[0;34m)\u001b[0m\u001b[0;34m\u001b[0m\u001b[0;34m\u001b[0m\u001b[0m\n\u001b[1;32m      4\u001b[0m \u001b[0mcreate_folder\u001b[0m\u001b[0;34m(\u001b[0m\u001b[0mpred_dir\u001b[0m\u001b[0;34m)\u001b[0m\u001b[0;34m\u001b[0m\u001b[0;34m\u001b[0m\u001b[0m\n",
      "\u001b[0;31mNameError\u001b[0m: name 'create_folder' is not defined"
     ]
    }
   ],
   "source": [
    "# Create directories\n",
    "create_folder(work_dir)\n",
    "create_folder(output_path)\n",
    "create_folder(pred_dir)"
   ]
  },
  {
   "cell_type": "code",
   "execution_count": null,
   "metadata": {},
   "outputs": [],
   "source": [
    "# Download prediction and ground truth files\n",
    "# NOTE this may cause unexpected results if there are >1 files with the same name in google drive\n",
    "\n",
    "pred_fn = \"pubtabnet1000-cells_0.01-201014:0008.jsonl\"\n",
    "dl_by_name(pred_fn, work_dir)\n",
    "\n",
    "gt_fn = \"pubtabnet1000.jsonl\"\n",
    "dl_by_name(gt_fn, work_dir)"
   ]
  },
  {
   "cell_type": "code",
   "execution_count": null,
   "metadata": {},
   "outputs": [],
   "source": [
    "# Download all files from metric folder\n",
    "file_list = my_drive.ListFile(\n",
    "    {'q': f\"'1S6G1oJo3KZdw0SGJLHB3D_PsaxwXUTvJ' in parents  \\\n",
    "    and trashed = false \\\n",
    "    and not title contains '.json' \\\n",
    "    and not title contains 'ipynb' \\\n",
    "    and not mimeType contains 'vnd.google-apps.folder' \\\n",
    "    \"}).GetList()\n",
    "metric_path = \"metric/\"\n",
    "dl_by_listfile(file_list, metric_path)"
   ]
  },
  {
   "cell_type": "code",
   "execution_count": null,
   "metadata": {},
   "outputs": [],
   "source": []
  },
  {
   "cell_type": "code",
   "execution_count": 15,
   "metadata": {},
   "outputs": [
    {
     "output_type": "error",
     "ename": "ValueError",
     "evalue": "I/O operation on closed file.",
     "traceback": [
      "\u001b[0;31m---------------------------------------------------------------------------\u001b[0m",
      "\u001b[0;31mValueError\u001b[0m                                Traceback (most recent call last)",
      "\u001b[0;32m<ipython-input-15-71bb5af3b29c>\u001b[0m in \u001b[0;36m<module>\u001b[0;34m\u001b[0m\n\u001b[0;32m----> 1\u001b[0;31m \u001b[0mjson_file\u001b[0m\u001b[0;34m.\u001b[0m\u001b[0mreadline\u001b[0m\u001b[0;34m(\u001b[0m\u001b[0;34m)\u001b[0m\u001b[0;34m\u001b[0m\u001b[0;34m\u001b[0m\u001b[0m\n\u001b[0m",
      "\u001b[0;31mValueError\u001b[0m: I/O operation on closed file."
     ]
    }
   ],
   "source": [
    "json_file.readline()"
   ]
  },
  {
   "cell_type": "code",
   "execution_count": null,
   "metadata": {},
   "outputs": [],
   "source": []
  }
 ],
 "metadata": {
  "kernelspec": {
   "name": "Python 3.8.5 64-bit ('COMP5703': conda)",
   "display_name": "Python 3.8.5 64-bit ('COMP5703': conda)",
   "metadata": {
    "interpreter": {
     "hash": "f6a1f6f8afdcd5514ba6acaea2e4991e977e9ed7bb8c8cfd88ca653c1576b6a0"
    }
   }
  },
  "language_info": {
   "codemirror_mode": {
    "name": "ipython",
    "version": 3
   },
   "file_extension": ".py",
   "mimetype": "text/x-python",
   "name": "python",
   "nbconvert_exporter": "python",
   "pygments_lexer": "ipython3",
   "version": "3.8.5-final"
  }
 },
 "nbformat": 4,
 "nbformat_minor": 2
}