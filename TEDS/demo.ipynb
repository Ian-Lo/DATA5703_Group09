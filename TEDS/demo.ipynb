{
 "cells": [
  {
   "cell_type": "markdown",
   "metadata": {},
   "source": [
    "## Evaluate a single pred_html_html_html_htmliction agains ground truth"
   ]
  },
  {
   "cell_type": "code",
   "execution_count": 1,
   "metadata": {},
   "outputs": [],
   "source": [
    "# Sample HTML code\n",
    "pred = '<html><body><table><thead><tr><td><b>Name of algori</b></td><td><b>Notablefeatures</b></td></tr></thead><tbody><tr><td>MACS [23]</td><td>Uses both a control library and local statistics to minimize bias</td></tr><tr><td>SICER [15]</td><td>Designed for detecting diffusely enriched regions; for example, histone modification</td></tr><tr><td>PeakSEQ [24]</td><td>Corrects for reference genome mappability and local statistics</td></tr><tr><td>SISSRs [25]</td><td>High resolution, precise identification of binding-site location</td></tr><tr><td>F-seq [26]</td><td>Uses kernel density estimation</td></tr></tbody></table></body></html>'\n",
    "true = '<html><body><table><thead><tr><td><b>Name of algorithm</b></td><td><b>Notable features</b></td></tr></thead><tbody><tr><td>MACS [23]</td><td>Uses both a control library and local statistics to minimize bias</td></tr><tr><td>SICER [14]</td><td>Designed for detecting diffusely enriched regions; for example, histone modification</td></tr><tr><td>PeakSeq [24]</td><td>Corrects for reference genome mappability and local statistics</td></tr><tr><td>SISSRs [25]</td><td>High resolution, precise identification of binding-site location</td></tr><tr><td>F-seq [26]</td><td>Uses kernel density estimation</td></tr></tbody></table></body></html>'"
   ]
  },
  {
   "cell_type": "code",
   "execution_count": 2,
   "metadata": {},
   "outputs": [
    {
     "output_type": "stream",
     "name": "stdout",
     "text": [
      "TEDS score: 0.9781765018607124\n"
     ]
    }
   ],
   "source": [
    "from metric import TEDS\n",
    "# Initialize TEDS object\n",
    "teds = TEDS()\n",
    "# Evaluate\n",
    "score = teds.evaluate(pred, true)\n",
    "print('TEDS score:', score)"
   ]
  },
  {
   "cell_type": "markdown",
   "metadata": {},
   "source": [
    "## Batch evaluation with parallel threads"
   ]
  },
  {
   "cell_type": "code",
   "execution_count": 3,
   "metadata": {},
   "outputs": [],
   "source": [
    "import json\n",
    "import pprint\n",
    "from metric import TEDS"
   ]
  },
  {
   "cell_type": "code",
   "execution_count": 4,
   "metadata": {},
   "outputs": [],
   "source": [
    "# Load sample ground truth and predictions\n",
    "with open('sample_pred.json') as fp:\n",
    "    pred_json = json.load(fp)\n",
    "with open('sample_gt.json') as fp:\n",
    "    true_json = json.load(fp)"
   ]
  },
  {
   "cell_type": "code",
   "execution_count": 5,
   "metadata": {},
   "outputs": [
    {
     "output_type": "stream",
     "name": "stderr",
     "text": [
      "100%|██████████| 19.0/19.0 [00:54<00:00, 2.84s/it]\n",
      "19it [00:00, 25534.05it/s]{'PMC2094709_004_00.png': 1.0,\n",
      " 'PMC2871264_002_00.png': 1.0,\n",
      " 'PMC2915972_003_00.png': 0.9298260149130074,\n",
      " 'PMC3160368_005_00.png': 0.994615695248351,\n",
      " 'PMC3568059_003_00.png': 0.9609420535891124,\n",
      " 'PMC3707453_006_00.png': 0.8538903625110521,\n",
      " 'PMC3765162_003_01.png': 0.9867342100509474,\n",
      " 'PMC3872294_001_00.png': 0.9863636363636363,\n",
      " 'PMC4196076_004_00.png': 0.9958653089334908,\n",
      " 'PMC4219599_004_00.png': 0.6029978075326913,\n",
      " 'PMC4297392_007_00.png': 0.8070175438596492,\n",
      " 'PMC4311460_007_00.png': 0.6576923076923077,\n",
      " 'PMC4357206_002_00.png': 0.9295181638546892,\n",
      " 'PMC4445578_009_01.png': 0.6754965084868096,\n",
      " 'PMC4969833_016_01.png': 1.0,\n",
      " 'PMC5303243_003_00.png': 0.6494374120956399,\n",
      " 'PMC5451934_004_00.png': 0.9978213507625272,\n",
      " 'PMC5755158_010_01.png': 1.0,\n",
      " 'PMC5849724_006_00.png': 0.9653439200120101,\n",
      " 'PMC6022086_007_00.png': 1.0}\n",
      "\n"
     ]
    }
   ],
   "source": [
    "# Initialize TEDS object, using 4 parallel threads\n",
    "teds = TEDS(n_jobs=4)\n",
    "# Evaluate\n",
    "scores = teds.batch_evaluate(pred_json, true_json)\n",
    "# Print results\n",
    "pp = pprint.PrettyPrinter()\n",
    "pp.pprint(scores)"
   ]
  }
 ],
 "metadata": {
  "kernelspec": {
   "name": "Python 3.8.5 64-bit ('COMP5703': conda)",
   "display_name": "Python 3.8.5 64-bit ('COMP5703': conda)",
   "metadata": {
    "interpreter": {
     "hash": "f6a1f6f8afdcd5514ba6acaea2e4991e977e9ed7bb8c8cfd88ca653c1576b6a0"
    }
   }
  },
  "language_info": {
   "codemirror_mode": {
    "name": "ipython",
    "version": 3
   },
   "file_extension": ".py",
   "mimetype": "text/x-python",
   "name": "python",
   "nbconvert_exporter": "python",
   "pygments_lexer": "ipython3",
   "version": "3.8.5-final"
  }
 },
 "nbformat": 4,
 "nbformat_minor": 2
}