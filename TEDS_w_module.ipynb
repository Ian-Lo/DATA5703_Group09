{
  "nbformat": 4,
  "nbformat_minor": 0,
  "metadata": {
    "colab": {
      "name": "TEDS_w_module.ipynb",
      "provenance": [],
      "collapsed_sections": []
    },
    "kernelspec": {
      "name": "python3",
      "display_name": "Python 3.8.5 64-bit ('COMP5703': conda)",
      "metadata": {
        "interpreter": {
          "hash": "f6a1f6f8afdcd5514ba6acaea2e4991e977e9ed7bb8c8cfd88ca653c1576b6a0"
        }
      }
    }
  },
  "cells": [
    {
      "cell_type": "code",
      "metadata": {
        "id": "NeP8ZLGF-20v",
        "outputId": "cbabacea-66ca-4102-afd7-dab240794d60",
        "colab": {
          "base_uri": "https://localhost:8080/"
        }
      },
      "source": [
        "# load libraries and install apps\n",
        "!pip install jsonlines distance apted lxml pydrive tqdm"
      ],
      "execution_count": 1,
      "outputs": [
        {
          "output_type": "stream",
          "name": "stdout",
          "text": [
            "Requirement already satisfied: jsonlines in /Users/ianlo/anaconda3/envs/COMP5048/lib/python3.8/site-packages (1.2.0)\n",
            "Requirement already satisfied: distance in /Users/ianlo/anaconda3/envs/COMP5048/lib/python3.8/site-packages (0.1.3)\n",
            "Requirement already satisfied: apted in /Users/ianlo/anaconda3/envs/COMP5048/lib/python3.8/site-packages (1.0.3)\n",
            "Requirement already satisfied: lxml in /Users/ianlo/anaconda3/envs/COMP5048/lib/python3.8/site-packages (4.6.0)\n",
            "Requirement already satisfied: pydrive in /Users/ianlo/anaconda3/envs/COMP5048/lib/python3.8/site-packages (1.3.1)\n",
            "Requirement already satisfied: tqdm in /Users/ianlo/anaconda3/envs/COMP5048/lib/python3.8/site-packages (4.51.0)\n",
            "Requirement already satisfied: six in /Users/ianlo/anaconda3/envs/COMP5048/lib/python3.8/site-packages (from jsonlines) (1.15.0)\n",
            "Requirement already satisfied: oauth2client>=4.0.0 in /Users/ianlo/anaconda3/envs/COMP5048/lib/python3.8/site-packages (from pydrive) (4.1.3)\n",
            "Requirement already satisfied: google-api-python-client>=1.2 in /Users/ianlo/anaconda3/envs/COMP5048/lib/python3.8/site-packages (from pydrive) (1.12.3)\n",
            "Requirement already satisfied: PyYAML>=3.0 in /Users/ianlo/anaconda3/envs/COMP5048/lib/python3.8/site-packages (from pydrive) (5.3.1)\n",
            "Requirement already satisfied: pyasn1-modules>=0.0.5 in /Users/ianlo/anaconda3/envs/COMP5048/lib/python3.8/site-packages (from oauth2client>=4.0.0->pydrive) (0.2.8)\n",
            "Requirement already satisfied: rsa>=3.1.4 in /Users/ianlo/anaconda3/envs/COMP5048/lib/python3.8/site-packages (from oauth2client>=4.0.0->pydrive) (4.6)\n",
            "Requirement already satisfied: pyasn1>=0.1.7 in /Users/ianlo/anaconda3/envs/COMP5048/lib/python3.8/site-packages (from oauth2client>=4.0.0->pydrive) (0.4.8)\n",
            "Requirement already satisfied: httplib2>=0.9.1 in /Users/ianlo/anaconda3/envs/COMP5048/lib/python3.8/site-packages (from oauth2client>=4.0.0->pydrive) (0.18.1)\n",
            "Requirement already satisfied: google-auth>=1.16.0 in /Users/ianlo/anaconda3/envs/COMP5048/lib/python3.8/site-packages (from google-api-python-client>=1.2->pydrive) (1.22.1)\n",
            "Requirement already satisfied: uritemplate<4dev,>=3.0.0 in /Users/ianlo/anaconda3/envs/COMP5048/lib/python3.8/site-packages (from google-api-python-client>=1.2->pydrive) (3.0.1)\n",
            "Requirement already satisfied: google-auth-httplib2>=0.0.3 in /Users/ianlo/anaconda3/envs/COMP5048/lib/python3.8/site-packages (from google-api-python-client>=1.2->pydrive) (0.0.4)\n",
            "Requirement already satisfied: google-api-core<2dev,>=1.21.0 in /Users/ianlo/anaconda3/envs/COMP5048/lib/python3.8/site-packages (from google-api-python-client>=1.2->pydrive) (1.22.4)\n",
            "Requirement already satisfied: setuptools>=40.3.0 in /Users/ianlo/anaconda3/envs/COMP5048/lib/python3.8/site-packages (from google-auth>=1.16.0->google-api-python-client>=1.2->pydrive) (50.3.0.post20201006)\n",
            "Requirement already satisfied: cachetools<5.0,>=2.0.0 in /Users/ianlo/anaconda3/envs/COMP5048/lib/python3.8/site-packages (from google-auth>=1.16.0->google-api-python-client>=1.2->pydrive) (4.1.1)\n",
            "Requirement already satisfied: protobuf>=3.12.0 in /Users/ianlo/anaconda3/envs/COMP5048/lib/python3.8/site-packages (from google-api-core<2dev,>=1.21.0->google-api-python-client>=1.2->pydrive) (3.13.0)\n",
            "Requirement already satisfied: requests<3.0.0dev,>=2.18.0 in /Users/ianlo/anaconda3/envs/COMP5048/lib/python3.8/site-packages (from google-api-core<2dev,>=1.21.0->google-api-python-client>=1.2->pydrive) (2.24.0)\n",
            "Requirement already satisfied: pytz in /Users/ianlo/anaconda3/envs/COMP5048/lib/python3.8/site-packages (from google-api-core<2dev,>=1.21.0->google-api-python-client>=1.2->pydrive) (2020.1)\n",
            "Requirement already satisfied: googleapis-common-protos<2.0dev,>=1.6.0 in /Users/ianlo/anaconda3/envs/COMP5048/lib/python3.8/site-packages (from google-api-core<2dev,>=1.21.0->google-api-python-client>=1.2->pydrive) (1.52.0)\n",
            "Requirement already satisfied: chardet<4,>=3.0.2 in /Users/ianlo/anaconda3/envs/COMP5048/lib/python3.8/site-packages (from requests<3.0.0dev,>=2.18.0->google-api-core<2dev,>=1.21.0->google-api-python-client>=1.2->pydrive) (3.0.4)\n",
            "Requirement already satisfied: idna<3,>=2.5 in /Users/ianlo/anaconda3/envs/COMP5048/lib/python3.8/site-packages (from requests<3.0.0dev,>=2.18.0->google-api-core<2dev,>=1.21.0->google-api-python-client>=1.2->pydrive) (2.10)\n",
            "Requirement already satisfied: urllib3!=1.25.0,!=1.25.1,<1.26,>=1.21.1 in /Users/ianlo/anaconda3/envs/COMP5048/lib/python3.8/site-packages (from requests<3.0.0dev,>=2.18.0->google-api-core<2dev,>=1.21.0->google-api-python-client>=1.2->pydrive) (1.25.10)\n",
            "Requirement already satisfied: certifi>=2017.4.17 in /Users/ianlo/anaconda3/envs/COMP5048/lib/python3.8/site-packages (from requests<3.0.0dev,>=2.18.0->google-api-core<2dev,>=1.21.0->google-api-python-client>=1.2->pydrive) (2020.6.20)\n"
          ]
        }
      ]
    },
    {
      "cell_type": "code",
      "metadata": {
        "id": "ydCprsrYrsKW",
        "outputId": "671037d1-10c6-43a6-f33a-d08a4e500e56",
        "colab": {
          "base_uri": "https://localhost:8080/"
        }
      },
      "source": [
        "# Import modules/libraries\n",
        "import os\n",
        "import datetime\n",
        "from TEDS.eval_json import create_folder, dl_by_name, dl_by_listfile, teds_jsonl, TEDS_score2json\n"
      ],
      "execution_count": null,
      "outputs": []
    },
    {
      "cell_type": "markdown",
      "metadata": {
        "id": "m8H4gyofFCrx"
      },
      "source": [
        "# Declare variables"
      ]
    },
    {
      "cell_type": "code",
      "metadata": {
        "id": "h82g9ov3_RwX"
      },
      "source": [
        "####### Declare variables ########\n",
        "root_path = '' #'/content/' # leave blank for relative\n",
        "work_dir = f\"{root_path}TED_scores/\"\n",
        "pred_dir = f\"{work_dir}preds/\"\n",
        "output_path = f\"{work_dir}output/\"\n",
        "max_count = 2\n",
        "teds_modules_path = f'{root_path}TEDS/'\n"
      ],
      "execution_count": null,
      "outputs": []
    },
    {
      "cell_type": "code",
      "metadata": {
        "id": "WGYFQEsAFNnE",
        "outputId": "c942be38-32ac-47fc-adcf-958588b24cae",
        "colab": {
          "base_uri": "https://localhost:8080/"
        }
      },
      "source": [
        "# Create directories\n",
        "create_folder(work_dir)\n",
        "create_folder(output_path)\n",
        "create_folder(pred_dir)"
      ],
      "execution_count": 4,
      "outputs": [
        {
          "output_type": "stream",
          "name": "stdout",
          "text": [
            "'TED_scores/' exists\n'TED_scores/output/' exists\n'TED_scores/preds/' exists\n"
          ]
        }
      ]
    },
    {
      "cell_type": "markdown",
      "metadata": {
        "id": "drgsypW-FY_s"
      },
      "source": [
        "# Batch processing of peturbed files"
      ]
    },
    {
      "cell_type": "code",
      "metadata": {
        "id": "yiSK5jv0sZeD"
      },
      "source": [
        "# Files to compare\n",
        "il_edit_preds = f'{pred_dir}pubtabnet1000-cells_0.1-IL_EDIT.jsonl'\n",
        "gt_fn = \"pubtabnet1000.jsonl\"\n",
        "# TEDS_score_temp = teds_jsonl(il_edit_preds, f'{work_dir}{gt_fn}', max_count)"
      ],
      "execution_count": 7,
      "outputs": []
    },
    {
      "cell_type": "code",
      "execution_count": null,
      "metadata": {},
      "outputs": [],
      "source": []
    },
    {
      "cell_type": "code",
      "execution_count": null,
      "metadata": {},
      "outputs": [],
      "source": []
    },
    {
      "cell_type": "code",
      "metadata": {
        "id": "lTES-pkg7kAX",
        "outputId": "b15d4a71-702f-4dec-ba8c-0a78d6b14adb",
        "colab": {
          "base_uri": "https://localhost:8080/"
        },
        "tags": []
      },
      "source": [
        "# Profile TEDS\n",
        "import cProfile\n",
        "import re\n",
        "cprof = cProfile.Profile()\n",
        "cProf_log = f\"{output_path}cProfile.prof\"\n",
        "cprof.run(\"teds_jsonl(il_edit_preds, f'{work_dir}{gt_fn}', max_count)\")\n",
        "cprof.dump_stats(cProf_log)\n",
        "import pstats\n",
        "from pstats import SortKey\n",
        "stream = open(f\"{cProf_log}_EDIT\", 'w')\n",
        "stats = pstats.Stats(cProf_log, stream=stream)\n",
        "stats.sort_stats('cumtime')\n",
        "stats.print_stats(10)\n",
        "stats.print_stats()"
      ],
      "execution_count": 48,
      "outputs": [
        {
          "output_type": "stream",
          "name": "stdout",
          "text": [
            "START: 2020-11-12 14:08:47.081902\n",
            "PRED Cell count: 1\n",
            "PMC4840965_004_00.png found in GT\n",
            "GT Cell count: 1\n",
            "PMC4517499_004_00.png found in GT\n",
            "number of CPUs detected = 4\n",
            " # of GTs == \\# of PRED True\n",
            "100%|██████████| 1.00/1.00 [00:02<00:00, 2.00s/it]\n",
            "1it [00:00, 212.77it/s]Main Cell exit count: 0             \n",
            "\tSTART: 2020-11-12 14:08:47.081902             \n",
            "\tEND: 2020-11-12 14:09:30.023700             \n",
            "\tDELTA: 0:00:42.941798             \n",
            "\n"
          ]
        }
      ]
    },
    {
      "source": [
        "cprof.dump_stats(cProf_log)"
      ],
      "cell_type": "markdown",
      "metadata": {}
    },
    {
      "cell_type": "code",
      "execution_count": 57,
      "metadata": {
        "tags": []
      },
      "outputs": [
        {
          "output_type": "stream",
          "name": "stdout",
          "text": [
            "Thu Nov 12 14:09:30 2020    TED_scores/output/cProfile.prof\n\n         22229062 function calls (22224433 primitive calls) in 42.941 seconds\n\n   Ordered by: cumulative time\n   List reduced from 488 to 10 due to restriction <10>\n\n   ncalls  tottime  percall  cumtime  percall filename:lineno(function)\n        1    0.000    0.000   42.941   42.941 {built-in method builtins.exec}\n        1    0.000    0.000   42.941   42.941 <string>:1(<module>)\n        1    0.001    0.001   42.941   42.941 /Users/ianlo/OneDrive/USYD Data Science 2020/COMP5703 Capstone/TEDS-evaluation/TEDS/eval_json.py:149(teds_jsonl)\n        1    0.001    0.001   42.806   42.806 /Users/ianlo/OneDrive/USYD Data Science 2020/COMP5703 Capstone/TEDS-evaluation/TEDS/parallel.py:4(parallel_process)\n        1    0.000    0.000   40.425   40.425 /Users/ianlo/OneDrive/USYD Data Science 2020/COMP5703 Capstone/TEDS-evaluation/TEDS/parallel.py:21(<listcomp>)\n        1    0.001    0.001   40.425   40.425 /Users/ianlo/OneDrive/USYD Data Science 2020/COMP5703 Capstone/TEDS-evaluation/TEDS/metric.py:110(evaluate)\n        1    0.000    0.000   40.416   40.416 /Users/ianlo/anaconda3/envs/COMP5048/lib/python3.8/site-packages/apted/apted.py:95(compute_edit_distance)\n    112/1    0.001    0.000   40.170   40.170 /Users/ianlo/anaconda3/envs/COMP5048/lib/python3.8/site-packages/apted/apted.py:359(gted)\n     28/1    0.010    0.000   40.170   40.170 /Users/ianlo/anaconda3/envs/COMP5048/lib/python3.8/site-packages/apted/apted.py:383(sub_gted)\n   113289    0.386    0.000   38.165    0.000 /Users/ianlo/OneDrive/USYD Data Science 2020/COMP5703 Capstone/TEDS-evaluation/TEDS/metric.py:52(rename)\n\n\n"
          ]
        },
        {
          "output_type": "execute_result",
          "data": {
            "text/plain": [
              "<pstats.Stats at 0x7fa9a7a8b2b0>"
            ]
          },
          "metadata": {},
          "execution_count": 57
        }
      ],
      "source": [
        "stats = pstats.Stats(cProf_log)\n",
        "stats.sort_stats('cumtime')\n",
        "stats.print_stats(10)"
      ]
    },
    {
      "cell_type": "code",
      "metadata": {
        "id": "tgXgZAtwtkER",
        "outputId": "348202d5-0b6f-435f-e164-51a697e16f52",
        "colab": {
          "base_uri": "https://localhost:8080/"
        }
      },
      "source": [
        "# ! tar czf /content/TED_scores_folder.tar.zip /content/TED_scores/*"
      ],
      "execution_count": 26,
      "outputs": [
        {
          "output_type": "stream",
          "text": [
            "tar: Removing leading `/' from member names\n"
          ],
          "name": "stdout"
        }
      ]
    },
    {
      "cell_type": "code",
      "metadata": {
        "id": "m4UkGAX161q5",
        "outputId": "109e9f63-7e45-464a-8be8-2f3cce87c4b6",
        "colab": {
          "base_uri": "https://localhost:8080/"
        }
      },
      "source": [
        "! ls -lnh"
      ],
      "execution_count": 27,
      "outputs": [
        {
          "output_type": "stream",
          "text": [
            "total 15M\n",
            "-rw-r--r-- 1 0 0 2.7K Nov 12 00:42 adc.json\n",
            "drwxr-xr-x 6 0 0 4.0K Nov 12 00:42 BaseModel_pytorch\n",
            "drwxr-xr-x 2 0 0 4.0K Nov 12 00:42 DevOps\n",
            "-rw-r--r-- 1 0 0 1.1K Nov 12 00:42 LICENSE\n",
            "-rw-r--r-- 1 0 0 104K Nov 12 00:42 Master_notebook.ipynb\n",
            "drwxr-xr-x 1 0 0 4.0K Nov  6 17:30 sample_data\n",
            "drwxr-xr-x 3 0 0 4.0K Nov 12 00:42 TEDS\n",
            "drwxr-xr-x 4 0 0 4.0K Nov 12 00:42 TED_scores\n",
            "-rw-r--r-- 1 0 0  15M Nov 12 00:46 TED_scores_folder.tar.zip\n"
          ],
          "name": "stdout"
        }
      ]
    },
    {
      "cell_type": "code",
      "execution_count": 2,
      "metadata": {},
      "outputs": [
        {
          "output_type": "stream",
          "name": "stdout",
          "text": [
            "Go to the following link in your browser:\n\n    https://accounts.google.com/o/oauth2/auth?client_id=92234478157-8fs595a02ev5pelu5fqn87256ek0iit7.apps.googleusercontent.com&redirect_uri=urn%3Aietf%3Awg%3Aoauth%3A2.0%3Aoob&scope=https%3A%2F%2Fwww.googleapis.com%2Fauth%2Fdrive&access_type=offline&response_type=code\n\n"
          ]
        },
        {
          "output_type": "error",
          "ename": "AuthenticationError",
          "evalue": "OAuth2 code exchange failed: invalid_requestMissing required parameter: code",
          "traceback": [
            "\u001b[0;31m---------------------------------------------------------------------------\u001b[0m",
            "\u001b[0;31mFlowExchangeError\u001b[0m                         Traceback (most recent call last)",
            "\u001b[0;32m~/anaconda3/envs/COMP5703/lib/python3.8/site-packages/pydrive/auth.py\u001b[0m in \u001b[0;36mAuthenticate\u001b[0;34m(self, code)\u001b[0m\n\u001b[1;32m    507\u001b[0m     \u001b[0;32mtry\u001b[0m\u001b[0;34m:\u001b[0m\u001b[0;34m\u001b[0m\u001b[0;34m\u001b[0m\u001b[0m\n\u001b[0;32m--> 508\u001b[0;31m       \u001b[0mself\u001b[0m\u001b[0;34m.\u001b[0m\u001b[0mcredentials\u001b[0m \u001b[0;34m=\u001b[0m \u001b[0mself\u001b[0m\u001b[0;34m.\u001b[0m\u001b[0mflow\u001b[0m\u001b[0;34m.\u001b[0m\u001b[0mstep2_exchange\u001b[0m\u001b[0;34m(\u001b[0m\u001b[0mcode\u001b[0m\u001b[0;34m)\u001b[0m\u001b[0;34m\u001b[0m\u001b[0;34m\u001b[0m\u001b[0m\n\u001b[0m\u001b[1;32m    509\u001b[0m     \u001b[0;32mexcept\u001b[0m \u001b[0mFlowExchangeError\u001b[0m \u001b[0;32mas\u001b[0m \u001b[0me\u001b[0m\u001b[0;34m:\u001b[0m\u001b[0;34m\u001b[0m\u001b[0;34m\u001b[0m\u001b[0m\n",
            "\u001b[0;32m~/anaconda3/envs/COMP5703/lib/python3.8/site-packages/oauth2client/_helpers.py\u001b[0m in \u001b[0;36mpositional_wrapper\u001b[0;34m(*args, **kwargs)\u001b[0m\n\u001b[1;32m    132\u001b[0m                     \u001b[0mlogger\u001b[0m\u001b[0;34m.\u001b[0m\u001b[0mwarning\u001b[0m\u001b[0;34m(\u001b[0m\u001b[0mmessage\u001b[0m\u001b[0;34m)\u001b[0m\u001b[0;34m\u001b[0m\u001b[0;34m\u001b[0m\u001b[0m\n\u001b[0;32m--> 133\u001b[0;31m             \u001b[0;32mreturn\u001b[0m \u001b[0mwrapped\u001b[0m\u001b[0;34m(\u001b[0m\u001b[0;34m*\u001b[0m\u001b[0margs\u001b[0m\u001b[0;34m,\u001b[0m \u001b[0;34m**\u001b[0m\u001b[0mkwargs\u001b[0m\u001b[0;34m)\u001b[0m\u001b[0;34m\u001b[0m\u001b[0;34m\u001b[0m\u001b[0m\n\u001b[0m\u001b[1;32m    134\u001b[0m         \u001b[0;32mreturn\u001b[0m \u001b[0mpositional_wrapper\u001b[0m\u001b[0;34m\u001b[0m\u001b[0;34m\u001b[0m\u001b[0m\n",
            "\u001b[0;32m~/anaconda3/envs/COMP5703/lib/python3.8/site-packages/oauth2client/client.py\u001b[0m in \u001b[0;36mstep2_exchange\u001b[0;34m(self, code, http, device_flow_info)\u001b[0m\n\u001b[1;32m   2088\u001b[0m                 \u001b[0merror_msg\u001b[0m \u001b[0;34m=\u001b[0m \u001b[0;34m'Invalid response: {0}.'\u001b[0m\u001b[0;34m.\u001b[0m\u001b[0mformat\u001b[0m\u001b[0;34m(\u001b[0m\u001b[0mstr\u001b[0m\u001b[0;34m(\u001b[0m\u001b[0mresp\u001b[0m\u001b[0;34m.\u001b[0m\u001b[0mstatus\u001b[0m\u001b[0;34m)\u001b[0m\u001b[0;34m)\u001b[0m\u001b[0;34m\u001b[0m\u001b[0;34m\u001b[0m\u001b[0m\n\u001b[0;32m-> 2089\u001b[0;31m             \u001b[0;32mraise\u001b[0m \u001b[0mFlowExchangeError\u001b[0m\u001b[0;34m(\u001b[0m\u001b[0merror_msg\u001b[0m\u001b[0;34m)\u001b[0m\u001b[0;34m\u001b[0m\u001b[0;34m\u001b[0m\u001b[0m\n\u001b[0m\u001b[1;32m   2090\u001b[0m \u001b[0;34m\u001b[0m\u001b[0m\n",
            "\u001b[0;31mFlowExchangeError\u001b[0m: invalid_requestMissing required parameter: code",
            "\nDuring handling of the above exception, another exception occurred:\n",
            "\u001b[0;31mAuthenticationError\u001b[0m                       Traceback (most recent call last)",
            "\u001b[0;32m<ipython-input-2-3c2b01c0b5ad>\u001b[0m in \u001b[0;36m<module>\u001b[0;34m\u001b[0m\n\u001b[1;32m      2\u001b[0m \u001b[0;34m\u001b[0m\u001b[0m\n\u001b[1;32m      3\u001b[0m \u001b[0mgauth\u001b[0m \u001b[0;34m=\u001b[0m \u001b[0mGoogleAuth\u001b[0m\u001b[0;34m(\u001b[0m\u001b[0;34m)\u001b[0m\u001b[0;34m\u001b[0m\u001b[0;34m\u001b[0m\u001b[0m\n\u001b[0;32m----> 4\u001b[0;31m \u001b[0mgauth\u001b[0m\u001b[0;34m.\u001b[0m\u001b[0mCommandLineAuth\u001b[0m\u001b[0;34m(\u001b[0m\u001b[0;34m)\u001b[0m\u001b[0;34m\u001b[0m\u001b[0;34m\u001b[0m\u001b[0m\n\u001b[0m",
            "\u001b[0;32m~/anaconda3/envs/COMP5703/lib/python3.8/site-packages/pydrive/auth.py\u001b[0m in \u001b[0;36m_decorated\u001b[0;34m(self, *args, **kwargs)\u001b[0m\n\u001b[1;32m    123\u001b[0m         \u001b[0mdirty\u001b[0m \u001b[0;34m=\u001b[0m \u001b[0;32mTrue\u001b[0m\u001b[0;34m\u001b[0m\u001b[0;34m\u001b[0m\u001b[0m\n\u001b[1;32m    124\u001b[0m     \u001b[0;32mif\u001b[0m \u001b[0mcode\u001b[0m \u001b[0;32mis\u001b[0m \u001b[0;32mnot\u001b[0m \u001b[0;32mNone\u001b[0m\u001b[0;34m:\u001b[0m\u001b[0;34m\u001b[0m\u001b[0;34m\u001b[0m\u001b[0m\n\u001b[0;32m--> 125\u001b[0;31m       \u001b[0mself\u001b[0m\u001b[0;34m.\u001b[0m\u001b[0mAuth\u001b[0m\u001b[0;34m(\u001b[0m\u001b[0mcode\u001b[0m\u001b[0;34m)\u001b[0m\u001b[0;34m\u001b[0m\u001b[0;34m\u001b[0m\u001b[0m\n\u001b[0m\u001b[1;32m    126\u001b[0m     \u001b[0;32mif\u001b[0m \u001b[0mdirty\u001b[0m \u001b[0;32mand\u001b[0m \u001b[0msave_credentials\u001b[0m\u001b[0;34m:\u001b[0m\u001b[0;34m\u001b[0m\u001b[0;34m\u001b[0m\u001b[0m\n\u001b[1;32m    127\u001b[0m       \u001b[0mself\u001b[0m\u001b[0;34m.\u001b[0m\u001b[0mSaveCredentials\u001b[0m\u001b[0;34m(\u001b[0m\u001b[0;34m)\u001b[0m\u001b[0;34m\u001b[0m\u001b[0;34m\u001b[0m\u001b[0m\n",
            "\u001b[0;32m~/anaconda3/envs/COMP5703/lib/python3.8/site-packages/pydrive/auth.py\u001b[0m in \u001b[0;36mAuth\u001b[0;34m(self, code)\u001b[0m\n\u001b[1;32m    493\u001b[0m     \u001b[0;34m:\u001b[0m\u001b[0mraises\u001b[0m\u001b[0;34m:\u001b[0m \u001b[0mAuthenticationError\u001b[0m\u001b[0;34m\u001b[0m\u001b[0;34m\u001b[0m\u001b[0m\n\u001b[1;32m    494\u001b[0m     \"\"\"\n\u001b[0;32m--> 495\u001b[0;31m     \u001b[0mself\u001b[0m\u001b[0;34m.\u001b[0m\u001b[0mAuthenticate\u001b[0m\u001b[0;34m(\u001b[0m\u001b[0mcode\u001b[0m\u001b[0;34m)\u001b[0m\u001b[0;34m\u001b[0m\u001b[0;34m\u001b[0m\u001b[0m\n\u001b[0m\u001b[1;32m    496\u001b[0m     \u001b[0mself\u001b[0m\u001b[0;34m.\u001b[0m\u001b[0mAuthorize\u001b[0m\u001b[0;34m(\u001b[0m\u001b[0;34m)\u001b[0m\u001b[0;34m\u001b[0m\u001b[0;34m\u001b[0m\u001b[0m\n\u001b[1;32m    497\u001b[0m \u001b[0;34m\u001b[0m\u001b[0m\n",
            "\u001b[0;32m~/anaconda3/envs/COMP5703/lib/python3.8/site-packages/pydrive/auth.py\u001b[0m in \u001b[0;36mAuthenticate\u001b[0;34m(self, code)\u001b[0m\n\u001b[1;32m    508\u001b[0m       \u001b[0mself\u001b[0m\u001b[0;34m.\u001b[0m\u001b[0mcredentials\u001b[0m \u001b[0;34m=\u001b[0m \u001b[0mself\u001b[0m\u001b[0;34m.\u001b[0m\u001b[0mflow\u001b[0m\u001b[0;34m.\u001b[0m\u001b[0mstep2_exchange\u001b[0m\u001b[0;34m(\u001b[0m\u001b[0mcode\u001b[0m\u001b[0;34m)\u001b[0m\u001b[0;34m\u001b[0m\u001b[0;34m\u001b[0m\u001b[0m\n\u001b[1;32m    509\u001b[0m     \u001b[0;32mexcept\u001b[0m \u001b[0mFlowExchangeError\u001b[0m \u001b[0;32mas\u001b[0m \u001b[0me\u001b[0m\u001b[0;34m:\u001b[0m\u001b[0;34m\u001b[0m\u001b[0;34m\u001b[0m\u001b[0m\n\u001b[0;32m--> 510\u001b[0;31m       \u001b[0;32mraise\u001b[0m \u001b[0mAuthenticationError\u001b[0m\u001b[0;34m(\u001b[0m\u001b[0;34m'OAuth2 code exchange failed: %s'\u001b[0m \u001b[0;34m%\u001b[0m \u001b[0me\u001b[0m\u001b[0;34m)\u001b[0m\u001b[0;34m\u001b[0m\u001b[0;34m\u001b[0m\u001b[0m\n\u001b[0m\u001b[1;32m    511\u001b[0m     \u001b[0mprint\u001b[0m\u001b[0;34m(\u001b[0m\u001b[0;34m'Authentication successful.'\u001b[0m\u001b[0;34m)\u001b[0m\u001b[0;34m\u001b[0m\u001b[0;34m\u001b[0m\u001b[0m\n\u001b[1;32m    512\u001b[0m \u001b[0;34m\u001b[0m\u001b[0m\n",
            "\u001b[0;31mAuthenticationError\u001b[0m: OAuth2 code exchange failed: invalid_requestMissing required parameter: code"
          ]
        }
      ],
      "source": [
        "from pydrive.auth import GoogleAuth\n",
        "\n",
        "gauth = GoogleAuth()\n",
        "gauth.CommandLineAuth()"
      ]
    },
    {
      "cell_type": "code",
      "execution_count": 4,
      "metadata": {},
      "outputs": [
        {
          "output_type": "stream",
          "name": "stdout",
          "text": [
            "Not running on CoLab\n"
          ]
        }
      ],
      "source": [
        "if 'google.colab' in str(get_ipython()):\n",
        "  print('Running on CoLab')\n",
        "else:\n",
        "  print('Not running on CoLab')"
      ]
    },
    {
      "cell_type": "code",
      "execution_count": null,
      "metadata": {},
      "outputs": [],
      "source": []
    }
  ]
}